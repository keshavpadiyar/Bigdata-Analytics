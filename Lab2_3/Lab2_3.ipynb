{
 "cells": [
  {
   "cell_type": "code",
   "execution_count": null,
   "metadata": {},
   "outputs": [],
   "source": [
    "from pyspark import SparkContext\n",
    "import pyspark.sql.functions as F\n",
    "from operator import add"
   ]
  },
  {
   "cell_type": "code",
   "execution_count": null,
   "metadata": {},
   "outputs": [],
   "source": [
    "spark = SparkContext(\"local\", \"Lab2\")"
   ]
  },
  {
   "cell_type": "code",
   "execution_count": null,
   "metadata": {},
   "outputs": [],
   "source": [
    "#using RDD\n",
    "rdd_tempReadings = sc.textFile(\"file:///home/x_kesma/Lab1/input_data/temperature-readings.csv\") \\\n",
    "                            .map(lambda line: line.split(\";\"))\n",
    "\n",
    "rdd_filtered_1 = rdd_tempReadings.filter(lambda line: (int(line[1][0:4]))>=1950 and int(line[1][0:4])<=2014) \\\n",
    "                            .map(lambda line: (line[1][0:4],(line[0],float(line[3]))))\n",
    "\n",
    "print(rdd_filtered_1.reduceByKey(max)\\\n",
    "            .sortBy(keyfunc=lambda k: k[0],ascending = False).collect())\n",
    "\n",
    "print(rdd_filtered_1.reduceByKey(min)\\\n",
    "            .sortBy(keyfunc=lambda k: k[0],ascending = False).collect())\n"
   ]
  },
  {
   "cell_type": "markdown",
   "metadata": {},
   "source": [
    "[(u'2014', (u'99450', 26.0)), (u'2013', (u'99450', 21.6)), (u'2012', (u'99450', 21.3)), (u'2011', (u'99450', 21.8)), (u'2010', (u'99450', 25.2)), (u'2009', (u'99450', 22.4)), (u'2008', (u'99450', 24.7)), (u'2007', (u'99450', 21.5)), (u'2006', (u'99450', 24.5)), (u'2005', (u'99450', 25.7)), (u'2004', (u'99450', 25.1)), (u'2003', (u'99450', 25.5)), (u'2002', (u'99450', 24.7)), (u'2001', (u'99450', 24.7)), (u'2000', (u'99450', 18.8)), (u'1999', (u'99450', 24.1)), (u'1998', (u'99450', 19.6)), (u'1997', (u'99450', 25.5)), (u'1996', (u'99450', 23.7)), (u'1995', (u'99450', 24.1)), (u'1994', (u'99450', 25.7)), (u'1993', (u'99450', 19.1)), (u'1992', (u'99450', 22.6)), (u'1991', (u'99450', 25.1)), (u'1990', (u'99450', 22.3)), (u'1989', (u'99450', 24.2)), (u'1988', (u'99450', 22.3)), (u'1987', (u'99450', 22.6)), (u'1986', (u'99450', 22.1)), (u'1985', (u'99450', 19.7)), (u'1984', (u'99450', 21.7)), (u'1983', (u'99450', 25.8)), (u'1982', (u'99450', 23.7)), (u'1981', (u'99450', 21.1)), (u'1980', (u'99450', 24.2)), (u'1979', (u'99450', 19.2)), (u'1978', (u'99450', 22.7)), (u'1977', (u'99450', 18.8)), (u'1976', (u'99450', 21.6)), (u'1975', (u'99450', 25.6)), (u'1974', (u'99450', 19.8)), (u'1973', (u'99450', 23.8)), (u'1972', (u'99450', 24.0)), (u'1971', (u'99450', 21.0)), (u'1970', (u'99450', 21.0)), (u'1969', (u'99450', 26.0)), (u'1968', (u'99450', 22.8)), (u'1967', (u'99450', 21.6)), (u'1966', (u'99450', 24.0)), (u'1965', (u'99450', 19.0)), (u'1964', (u'99450', 22.0)), (u'1963', (u'99450', 21.0)), (u'1962', (u'99450', 18.2)), (u'1961', (u'99450', 20.3)), (u'1960', (u'99450', 19.8)), (u'1959', (u'99450', 23.5)), (u'1958', (u'99450', 19.4)), (u'1957', (u'99450', 21.0)), (u'1956', (u'99450', 19.1)), (u'1955', (u'99450', 24.6)), (u'1954', (u'99450', 19.6)), (u'1953', (u'99450', 23.0)), (u'1952', (u'99450', 20.4)), (u'1951', (u'99450', 20.8)), (u'1950', (u'98610', 26.2))]\n"
   ]
  },
  {
   "cell_type": "code",
   "execution_count": null,
   "metadata": {},
   "outputs": [],
   "source": [
    "# 2_1 Count the number of readings for each month in the period of 1950-2014 which are higher than 10 degrees \n",
    "\n",
    "rdd_filtered_2_1 = rdd_tempReadings.filter(lambda line: ((int(line[1][0:4]))>=1950\\\n",
    "                                                       and int(line[1][0:4])<=2014)\\\n",
    "                                                       and float(line[3]) >10 )\\\n",
    "                                .map(lambda line: ((line[1][0:4], line[1][5:7]),(line[0],float(line[3]))))\\\n",
    "                                .countByKey()\n",
    "print(sorted(rdd_filtered_2_1.items(), key = lambda v:v[1], reverse = True))"
   ]
  },
  {
   "cell_type": "code",
   "execution_count": null,
   "metadata": {},
   "outputs": [],
   "source": [
    "# 2_2 Repeat the exercise,this time taking only distinct readings from each station.\n",
    "# That is, if a station reported a reading above 10 degrees in some month, then itappears only\n",
    "# once in the count for that month\n",
    "\n",
    "rdd_filtered_2_2 = rdd_tempReadings.filter(lambda line: ((int(line[1][0:4]))>=1950\\\n",
    "                                                       and int(line[1][0:4])<=2014)\\\n",
    "                                                       and float(line[3]) >10 )\\\n",
    "                                .map(lambda line: (line[1][0:4], line[1][5:7],line[0]))\\\n",
    "                                .distinct()\\\n",
    "                                .map(lambda line: ((line[0],line[1]),(line[2])))\\\n",
    "                                .countByKey()\n",
    "print(sorted(rdd_filtered_2_2.items(), key = lambda v:v[1], reverse = True))"
   ]
  },
  {
   "cell_type": "code",
   "execution_count": null,
   "metadata": {},
   "outputs": [],
   "source": [
    "# 3 Find the average monthly temperature for each available station in Sweden. Your result\n",
    "#should include average temperature for each station for each month in the period of 1960-\n",
    "#2014. Bear in mind that not every station has the readings for each month in this timeframe.\n",
    "\n",
    "rdd_filtered_3 = rdd_tempReadings.filter(lambda line: (int(line[1][0:4]))>=1950 and int(line[1][0:4])<=2014) \\\n",
    "                            .map(lambda line: ((line[1][0:4], line[1][5:7], line[0]),(float(line[3]))))\\\n",
    "                            .groupByKey()\\\n",
    "                            .mapValues(lambda val: sum(val)/len(val))\n",
    "print(rdd_filtered_3\\\n",
    "            .sortBy(keyfunc=lambda k: (k[0][2],k[0][0],k[0][1]),ascending = False).collect())"
   ]
  },
  {
   "cell_type": "code",
   "execution_count": null,
   "metadata": {},
   "outputs": [],
   "source": [
    "# 4 Provide a list of stations with their associated maximum measured temperatures and\n",
    "# maximum measured daily precipitation. Show only those stations where the maximum\n",
    "# temperature is between 25 and 30 degrees and maximum daily precipitation is between 100mm and 200mm.\n",
    "rdd_precReadings = sc.textFile(\"file:///home/x_kesma/Lab1/input_data/precipitation-readings.csv\") \\\n",
    "                            .map(lambda line: line.split(\";\"))\n",
    "\n",
    "rdd_filter_4 = rdd_precReadings\\\n",
    "                            .filter(lambda line: float(line[3])>=100 and float(line[3])<=200)\\\n",
    "                            .map(lambda line: (line[0],line[3]))\\\n",
    "                            .reduceByKey(max)\n",
    "        \n",
    "\n",
    "rdd_tempReadings_4 = rdd_tempReadings.filter(lambda line: float(line[3])>=25 and float(line[3]<=30) )\\\n",
    "                                     .map(lambda line: (line[0],line[3]))\\\n",
    "                                     .reduceByKey(max)\n",
    "\n",
    "rdd_result = rdd_tempReadings_4.join(rdd_filter_4)\n",
    "\n",
    "rdd_result.collect()"
   ]
  },
  {
   "cell_type": "code",
   "execution_count": null,
   "metadata": {},
   "outputs": [],
   "source": [
    "# Needs Completion\n",
    "### 5 Calculate the average monthly precipitation for the Östergotland region (list of stations is provided in the separate file)\n",
    "### for the period 1993-2016. In order to do this, you will first need to calculate the totalmonthly precipitation for each \n",
    "### station before calculating the monthly average (by averaging over stations).\n",
    "\n",
    "rdd_OstStations = sc.textFile(\"file:///home/x_kesma/Lab1/input_data/stations-Ostergotland.csv\")\\\n",
    "                            .map(lambda line: line.split(\";\"))\\\n",
    "                            .map(lambda line:int(line[0]))\n",
    "\n",
    "list_OstStations = rdd_OstStations.collect()\n",
    "\n",
    "broadcastVar = sc.broadcast(list_OstStations)\n",
    "\n",
    "rdd_filter_5 = rdd_precReadings.filter(lambda line: (int(line[0]) in broadcastVar.value) and\\\n",
    "                                                    (int(line[1][0:4])>=1993 and int(line[1][0:4])<=2016))\\\n",
    "                            .map(lambda line: ((line[1][0:4], line[1][5:7], line[0]),(float(line[3]))))\\\n",
    "                            .reduceByKey(add)\\\n",
    "                            .map(lambda line:((line[0][0], line[0][1]),(line[1])))\\\n",
    "                            .groupByKey()\\\n",
    "                            .mapValues(lambda val:sum(val)/len(val))\n",
    "\n",
    "rdd_filter_5.filter(lambda line: line[0][2]=='75520').collect()\n",
    "\n",
    "daily_prec_5.filter(lambda line: line[0][1]=='75520').collect()"
   ]
  },
  {
   "cell_type": "markdown",
   "metadata": {},
   "source": [
    "# Lab 3 - With Spark SQL"
   ]
  },
  {
   "cell_type": "code",
   "execution_count": null,
   "metadata": {},
   "outputs": [],
   "source": [
    "# Assignment 1: What are the lowest and highest temperatures measured each year for the period 1950-2014.\n",
    "# Using Dataframes\n",
    "from pyspark.sql import functions as F\n",
    "df_tempReadings = spark.read.csv(\"file:///home/x_kesma/Lab1/input_data/temperature-readings.csv\", header = False, sep = ';' )\n",
    "df_tempReadings = df_tempReadings.withColumnRenamed(\"_c0\", \"stationNumber\")\\\n",
    "                                 .withColumnRenamed(\"_c1\", \"date\")\\\n",
    "                                 .withColumnRenamed(\"_c2\", \"time\")\\\n",
    "                                 .withColumnRenamed(\"_c3\", \"airTemperature\")\\\n",
    "                                 .withColumnRenamed(\"_c4\", \"quality\")\n",
    "\n",
    "df_filtered_1 = df_tempReadings.select(\"stationNumber\", F.year(F.col('date')).alias(\"Year\"),\\\n",
    "                                     F.col(\"airTemperature\").cast(\"float\"))\\\n",
    "                              .filter((F.col(\"Year\")>=1950) & ((F.col(\"Year\")<=2014)))\n",
    "\n",
    "df_filtered_1.groupBy(\"Year\")\\\n",
    "            .agg(F.min('airTemperature').alias('MinTemp'),F.max('airTemperature').alias('MaxTemp'))\\\n",
    "            .orderBy(\"Year\")\\\n",
    "            .show()\n"
   ]
  },
  {
   "cell_type": "code",
   "execution_count": null,
   "metadata": {},
   "outputs": [],
   "source": [
    "# 2_1 Count the number of readings for each month in the period of 1950-2014 which are higher than 10 degrees\n",
    "\n",
    "df_filtered_2 = df_tempReadings.select(\"stationNumber\", F.year(F.col('date')).alias(\"Year\"),\\\n",
    "                                     F.month(F.col(\"date\")).alias(\"Month\"),\\\n",
    "                                     F.col(\"airTemperature\").cast(\"float\"))\\\n",
    "                              .filter(((F.col(\"Year\")>=1950) & ((F.col(\"Year\")<=2014))) &(F.col(\"airTemperature\")>10))\n",
    "                                      \n",
    "df_filtered_2.groupBy(\"Year\", \"Month\")\\\n",
    "             .agg(F.count(\"stationNumber\").alias(\"Value\"))\\\n",
    "             .orderBy(\"value\",ascending=False)\\\n",
    "             .show()"
   ]
  },
  {
   "cell_type": "code",
   "execution_count": null,
   "metadata": {},
   "outputs": [],
   "source": [
    "# 2_2 Repeat the exercise,this time taking only distinct readings from each station.\n",
    "# That is, if a station reported a reading above 10 degrees in some month, then itappears only\n",
    "# once in the count for that month\n",
    "\n",
    "df_filtered_2.groupBy(\"Year\", \"Month\")\\\n",
    "             .agg(F.countDistinct(\"stationNumber\").alias(\"Value\"))\\\n",
    "             .orderBy(\"value\",ascending=False)\\\n",
    "             .show()"
   ]
  },
  {
   "cell_type": "code",
   "execution_count": null,
   "metadata": {},
   "outputs": [],
   "source": [
    "# 3 Find the average monthly temperature for each available station in Sweden. Your result\n",
    "#should include average temperature for each station for each month in the period of 1960-\n",
    "#2014. Bear in mind that not every station has the readings for each month in this timeframe.\n",
    "\n",
    "df_filtered_3 = df_tempReadings.select(\"stationNumber\", F.year(F.col('date')).alias(\"Year\"),\\\n",
    "                                     F.month(F.col(\"date\")).alias(\"Month\"),\\\n",
    "                                     F.col(\"airTemperature\").cast(\"float\"))\\\n",
    "                              .filter((F.col(\"Year\")>=1960) & ((F.col(\"Year\")<=2014)))\n",
    "\n",
    "df_filtered_3.groupBy(\"stationNumber\",\"Year\", \"Month\")\\\n",
    "             .agg(F.avg(\"airTemperature\").alias(\"avgMonthlyTemperature\"))\\\n",
    "             .orderBy(\"avgMonthlyTemperature\",ascending=False)\\\n",
    "             .show()\n"
   ]
  },
  {
   "cell_type": "code",
   "execution_count": null,
   "metadata": {},
   "outputs": [],
   "source": [
    "# 4 Provide a list of stations with their associated maximum measured temperatures and\n",
    "# maximum measured daily precipitation. Show only those stations where the maximum\n",
    "# temperature is between 25 and 30 degrees and maximum daily precipitation is between 100mm and 200mm.\n",
    "\n",
    "df_precipitation = spark.read.csv(\"file:///home/x_kesma/Lab1/input_data/precipitation-readings.csv\", header = False, sep = ';' )\n",
    "df_precipitation = df_precipitation.withColumnRenamed(\"_c0\", \"stationNumber\")\\\n",
    "                                 .withColumnRenamed(\"_c1\", \"date\")\\\n",
    "                                 .withColumnRenamed(\"_c2\", \"time\")\\\n",
    "                                 .withColumnRenamed(\"_c3\", \"precipitation\")\\\n",
    "                                 .withColumnRenamed(\"_c4\", \"quality\")\n",
    "\n",
    "df_filtered_temp = df_tempReadings.select(\"stationNumber\",\\\n",
    "                                     F.col(\"airTemperature\").cast(\"float\"))\\\n",
    "                              .filter((F.col(\"airTemperature\")>=25) & ((F.col(\"airTemperature\")<=30)))\n",
    "\n",
    "df_filtered_preci = df_precipitation.select(\"stationNumber\",\\\n",
    "                                     F.col(\"precipitation\").cast(\"float\"))\\\n",
    "                              .filter((F.col(\"precipitation\")>=100) & ((F.col(\"precipitation\")<=200)))\n",
    "\n",
    "df_join = df_filtered_temp.alias(\"a\").join(df_filtered_preci.alias(\"b\"),\n",
    "                                           F.col(\"a.stationNumber\")==F.col(\"b.stationNumber\"),\"inner\")\\\n",
    "                                     .select(\"a.stationNumber\", \"a.airTemperature\", \"b.precipitation\")\n",
    "\n",
    "df_join.groupBy(\"stationNumber\")\\\n",
    "             .agg(F.max(\"airTemperature\").alias(\"maxTemp\"),F.max(\"precipitation\").alias(\"maxDailyPrecipitation\"))\\\n",
    "             .orderBy(\"stationNumber\",ascending=False)\\\n",
    "             .show()"
   ]
  },
  {
   "cell_type": "code",
   "execution_count": null,
   "metadata": {},
   "outputs": [],
   "source": [
    "# 5 Calculate the average monthly precipitation for the Östergotland region (list of stations is provided in the separate file)\n",
    "# for the period 1993-2016. In order to do this, you will first need to calculate the totalmonthly precipitation for each \n",
    "# station before calculating the monthly average (by averaging over stations).\n",
    "\n",
    "rdd_OstStations = sc.textFile(\"file:///home/x_kesma/Lab1/input_data/stations-Ostergotland.csv\")\\\n",
    "                            .map(lambda line: line.split(\";\"))\\\n",
    "                            .map(lambda line:line[0])\n",
    "\n",
    "list_OstStations = rdd_OstStations.collect()\n",
    "\n",
    "broadcastVar = sc.broadcast(list_OstStations)\n",
    "\n",
    "df_filtered_preci_5 = df_precipitation.select(\"stationNumber\",\\\n",
    "                                     F.year(F.col('date')).alias(\"Year\"),\\\n",
    "                                     F.month(F.col(\"date\")).alias(\"Month\"),\\\n",
    "                                     F.col(\"precipitation\").cast(\"float\"))\\\n",
    "                              .filter(((F.col(\"Year\")>=1993) & ((F.col(\"Year\")<=2016))) & (F.col(\"stationNumber\").isin(broadcastVar.value)))\n",
    "\n",
    "df_out = df_filtered_preci_5.groupBy(\"Year\", \"Month\",\"stationNumber\")\\\n",
    "             .agg(F.sum(\"precipitation\").alias(\"Sum\"))\\\n",
    "             .groupBy(\"Year\", \"Month\")\\\n",
    "             .agg(F.avg(\"Sum\").alias(\"avgMonthlyPrecipitation\"))\\\n",
    "             .orderBy(\"year\",\"Month\",ascending=False)\n",
    "\n"
   ]
  }
 ],
 "metadata": {
  "kernelspec": {
   "display_name": "Python 3",
   "language": "python",
   "name": "python3"
  },
  "language_info": {
   "codemirror_mode": {
    "name": "ipython",
    "version": 3
   },
   "file_extension": ".py",
   "mimetype": "text/x-python",
   "name": "python",
   "nbconvert_exporter": "python",
   "pygments_lexer": "ipython3",
   "version": "3.8.5"
  }
 },
 "nbformat": 4,
 "nbformat_minor": 4
}
